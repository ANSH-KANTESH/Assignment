{
 "cells": [
  {
   "cell_type": "code",
   "execution_count": 1,
   "metadata": {},
   "outputs": [],
   "source": [
    "import pandas as pd\n",
    "\n",
    "# Load the datasets\n",
    "customers = pd.read_csv('Customers.csv')\n",
    "products = pd.read_csv('Products.csv')\n",
    "transactions = pd.read_csv('Transactions.csv')"
   ]
  },
  {
   "cell_type": "code",
   "execution_count": 2,
   "metadata": {},
   "outputs": [
    {
     "name": "stdout",
     "output_type": "stream",
     "text": [
      "Defaulting to user installation because normal site-packages is not writeableNote: you may need to restart the kernel to use updated packages.\n",
      "\n",
      "Requirement already satisfied: scikit-learn in f:\\anaconda\\lib\\site-packages (1.4.2)\n",
      "Requirement already satisfied: numpy>=1.19.5 in f:\\anaconda\\lib\\site-packages (from scikit-learn) (1.26.4)\n",
      "Requirement already satisfied: scipy>=1.6.0 in f:\\anaconda\\lib\\site-packages (from scikit-learn) (1.13.1)\n",
      "Requirement already satisfied: joblib>=1.2.0 in f:\\anaconda\\lib\\site-packages (from scikit-learn) (1.4.2)\n",
      "Requirement already satisfied: threadpoolctl>=2.0.0 in f:\\anaconda\\lib\\site-packages (from scikit-learn) (2.2.0)\n"
     ]
    }
   ],
   "source": [
    "pip install scikit-learn\n"
   ]
  },
  {
   "cell_type": "code",
   "execution_count": 3,
   "metadata": {},
   "outputs": [],
   "source": [
    "# Merge the data on CustomerID and ProductID\n",
    "combined_data = pd.merge(transactions, customers, on='CustomerID')\n",
    "combined_data = pd.merge(combined_data, products, on='ProductID')"
   ]
  },
  {
   "cell_type": "code",
   "execution_count": 6,
   "metadata": {},
   "outputs": [],
   "source": [
    "# Calculate total spent by each customer\n",
    "total_spent = combined_data.groupby('CustomerID')['TotalValue'].sum()\n",
    "total_spent = total_spent.reset_index()\n",
    "\n",
    "# Create additional features such as most purchased product categories\n",
    "frequent_products = combined_data.groupby('CustomerID')['ProductID'].apply(lambda x: x.mode()[0])\n"
   ]
  },
  {
   "cell_type": "code",
   "execution_count": 8,
   "metadata": {},
   "outputs": [],
   "source": [
    "from sklearn.metrics.pairwise import cosine_similarity\n",
    "\n",
    "# Create a matrix of customer features for similarity comparison\n",
    "customer_features = pd.merge(total_spent, frequent_products, on='CustomerID')\n",
    "\n",
    "# Compute cosine similarity with only numeric features\n",
    "similarity_matrix = cosine_similarity(customer_features[['TotalValue']])\n"
   ]
  },
  {
   "cell_type": "code",
   "execution_count": 9,
   "metadata": {},
   "outputs": [],
   "source": [
    "from sklearn.preprocessing import LabelEncoder\n",
    "\n",
    "# Convert ProductID to numeric labels\n",
    "label_encoder = LabelEncoder()\n",
    "customer_features['ProductID'] = label_encoder.fit_transform(customer_features['ProductID'])\n",
    "\n",
    "# Now you can use both TotalValue and ProductID\n",
    "similarity_matrix = cosine_similarity(customer_features[['TotalValue', 'ProductID']])\n"
   ]
  },
  {
   "cell_type": "code",
   "execution_count": 10,
   "metadata": {},
   "outputs": [
    {
     "name": "stdout",
     "output_type": "stream",
     "text": [
      "Top 3 lookalikes for C1: [(195, 0.9999999992688557), (97, 0.9999999973450451), (156, 0.9999999907476499)]\n",
      "Top 3 lookalikes for C2: [(99, 0.9999999999323259), (40, 0.9999999998791972), (161, 0.9999999984677249)]\n",
      "Top 3 lookalikes for C3: [(152, 0.9999999985097667), (179, 0.9999999976743916), (168, 0.9999999972429899)]\n",
      "Top 3 lookalikes for C4: [(73, 0.9999999999979683), (138, 0.9999999990838956), (180, 0.9999999951797378)]\n",
      "Top 3 lookalikes for C5: [(157, 0.999999999660807), (17, 0.9999999995559676), (178, 0.9999999416780418)]\n",
      "Top 3 lookalikes for C6: [(116, 0.9999999996649149), (53, 0.9999999900196751), (34, 0.9999999897506858)]\n",
      "Top 3 lookalikes for C7: [(158, 0.9999998944395402), (41, 0.9999998831269665), (141, 0.9999996311608731)]\n",
      "Top 3 lookalikes for C8: [(177, 0.9999999993514664), (103, 0.999999998337026), (134, 0.9999999979217612)]\n",
      "Top 3 lookalikes for C9: [(82, 0.9999987539288441), (57, 0.9999943426746403), (31, 0.9999862931120519)]\n",
      "Top 3 lookalikes for C10: [(132, 0.9999999982890476), (84, 0.999999991766556), (75, 0.9999999893039908)]\n",
      "Top 3 lookalikes for C11: [(86, 0.999999998758169), (190, 0.9999999986179199), (33, 0.9999999982343517)]\n",
      "Top 3 lookalikes for C12: [(63, 0.9999999999964289), (87, 0.9999999999575091), (33, 0.999999999696676)]\n",
      "Top 3 lookalikes for C13: [(71, 0.9999999999998559), (47, 0.9999999999920953), (135, 0.9999999999755856)]\n",
      "Top 3 lookalikes for C14: [(96, 0.9998489217635936), (149, 0.999781812786436), (129, 0.9990788960673666)]\n",
      "Top 3 lookalikes for C15: [(143, 0.9999998050583279), (175, 0.9999989228181412), (131, 0.9999987046100135)]\n",
      "Top 3 lookalikes for C16: [(95, 0.9999999967661566), (165, 0.9999999915647975), (169, 0.9999999754208649)]\n",
      "Top 3 lookalikes for C17: [(18, 1.0), (23, 1.0), (35, 1.0)]\n",
      "Top 3 lookalikes for C18: [(4, 0.9999999995559676), (157, 0.9999999984405973), (178, 0.9999999514117967)]\n",
      "Top 3 lookalikes for C19: [(18, 1.0), (23, 1.0), (35, 1.0)]\n",
      "Top 3 lookalikes for C20: [(76, 0.9999963522798038), (77, 0.9998964578362649), (196, 0.9998767406968935)]\n"
     ]
    }
   ],
   "source": [
    "# For each customer, find top 3 similar customers\n",
    "for customer in range(20):  # For C0001 to C0020\n",
    "    similar_customers = sorted(enumerate(similarity_matrix[customer]), key=lambda x: x[1], reverse=True)\n",
    "    top_3_similar = similar_customers[1:4]  # Skip the first entry (the customer itself)\n",
    "    print(f\"Top 3 lookalikes for C{customer + 1}: {top_3_similar}\")\n"
   ]
  },
  {
   "cell_type": "code",
   "execution_count": 11,
   "metadata": {},
   "outputs": [],
   "source": [
    "lookalike_data = pd.DataFrame({'CustomerID': ['C0001', 'C0002', 'C0003'], 'LookalikeCustomerID': ['C004', 'C005', 'C006'], 'SimilarityScore': [0.85, 0.80, 0.78]})\n",
    "lookalike_data.to_csv('Lookalike.csv', index=False)\n"
   ]
  }
 ],
 "metadata": {
  "kernelspec": {
   "display_name": "base",
   "language": "python",
   "name": "python3"
  },
  "language_info": {
   "codemirror_mode": {
    "name": "ipython",
    "version": 3
   },
   "file_extension": ".py",
   "mimetype": "text/x-python",
   "name": "python",
   "nbconvert_exporter": "python",
   "pygments_lexer": "ipython3",
   "version": "3.12.4"
  }
 },
 "nbformat": 4,
 "nbformat_minor": 2
}
